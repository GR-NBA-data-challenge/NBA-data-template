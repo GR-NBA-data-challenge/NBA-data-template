{
 "cells": [
  {
   "cell_type": "code",
   "execution_count": null,
   "metadata": {},
   "outputs": [],
   "source": [
    "import libsimulation\n",
    "from src import main"
   ]
  },
  {
   "cell_type": "markdown",
   "metadata": {},
   "source": [
    "# NBA data jupyter notebook\n",
    "\n",
    "__Important__\n",
    "This notebook is here for you to quickly test with the data.\n",
    "It is __not__ the final submission, as we will only run your code provided in `src/main.py` and any other files referenced from it."
   ]
  },
  {
   "cell_type": "code",
   "execution_count": null,
   "metadata": {},
   "outputs": [],
   "source": [
    "# Initialize some settings\n",
    "settings = libsimulation.SimulationSettings()\n",
    "settings.env = 'prod'\n",
    "settings.cutoff = '2019-01-01'\n",
    "settings.resultpath = None\n",
    "settings.log = lambda msg: print(msg)"
   ]
  },
  {
   "cell_type": "code",
   "execution_count": null,
   "metadata": {},
   "outputs": [],
   "source": [
    "# Write some code\n",
    "def predict(required_predictions, data_loader, log):\n",
    "    # Load games data for the 2010 season.\n",
    "    # Seasons from 2009 onwards are available, including POST seasons, such as 2010POST\n",
    "    games2010 = data_loader.getSeason('2010')\n",
    "    log(f'Loaded {len(games2010)} 2010 games')\n",
    "    log(f'First entry in 2010 season is {games2010[0]}')\n",
    "\n",
    "    # Loading a season that is ahead of the cutoff training time returns no results.\n",
    "    # In this case, the default cutoff time is in 2019, so loading 2020 data returns no results.\n",
    "    # You can change the cutoff time by passing to simulate.py\n",
    "    #     --cutoff YYYY-MM-DD\n",
    "    games2020 = data_loader.getSeason('2020')\n",
    "    log(f'Loaded {len(games2020)} 2019 games')\n",
    "\n",
    "    # You can load an individual match's data\n",
    "    aGame = data_loader.getGame(games2010[100]['gameId'])\n",
    "    log(f'Game 100 in the 2010 database is {aGame}')\n",
    "\n",
    "    # You can also load the full players data for an entire season\n",
    "    full2010seasonPlayers = data_loader.getPlayers('2010')\n",
    "    log(f'Loaded {len(full2010seasonPlayers)} 2010 season player rows')\n",
    "\n",
    "    result = []\n",
    "    for match in required_predictions:\n",
    "        result.append({\n",
    "            'gameId': match['gameId'],\n",
    "            'sum': 999,\n",
    "            'diff': 1\n",
    "        })\n",
    "    log('finished')\n",
    "    return result"
   ]
  },
  {
   "cell_type": "code",
   "execution_count": null,
   "metadata": {
    "scrolled": false
   },
   "outputs": [],
   "source": [
    "# Run a simulation\n",
    "settings.predict = predict\n",
    "libsimulation.runSimulation(settings)"
   ]
  },
  {
   "cell_type": "code",
   "execution_count": null,
   "metadata": {
    "scrolled": false
   },
   "outputs": [],
   "source": [
    "# You can also run the code present in src/main.py\n",
    "settings.predict = main.predict\n",
    "libsimulation.runSimulation(settings)"
   ]
  }
 ],
 "metadata": {
  "kernelspec": {
   "display_name": "Python 3",
   "language": "python",
   "name": "python3"
  },
  "language_info": {
   "codemirror_mode": {
    "name": "ipython",
    "version": 3
   },
   "file_extension": ".py",
   "mimetype": "text/x-python",
   "name": "python",
   "nbconvert_exporter": "python",
   "pygments_lexer": "ipython3",
   "version": "3.7.4"
  }
 },
 "nbformat": 4,
 "nbformat_minor": 2
}
